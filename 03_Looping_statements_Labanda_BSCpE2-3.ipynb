{
 "cells": [
  {
   "cell_type": "markdown",
   "metadata": {},
   "source": [
    "Lab #2:Looping Statements\n",
    "\n"
   ]
  },
  {
   "cell_type": "markdown",
   "metadata": {},
   "source": [
    "Submitted by: Viency E. Labanda"
   ]
  },
  {
   "cell_type": "markdown",
   "metadata": {},
   "source": [
    "EXERCISE 1:"
   ]
  },
  {
   "cell_type": "code",
   "execution_count": 5,
   "metadata": {},
   "outputs": [
    {
     "name": "stdout",
     "output_type": "stream",
     "text": [
      "2 raised to 2 is equal to 4\n"
     ]
    }
   ],
   "source": [
    "def power_calculator(base, exponent):\n",
    "    if exponent == 0:\n",
    "        return 1\n",
    "    else:\n",
    "        return base * power(base, exponent - 1)\n",
    "\n",
    "base = int(input(\"Enter the base number: \"))\n",
    "exponent = int(input(\"Enter the exponent: \"))\n",
    "\n",
    "answer = power_calculator(base, exponent)\n",
    "\n",
    "print(f\"{base} raised to {exponent} is equal to {answer}\")\n"
   ]
  },
  {
   "cell_type": "markdown",
   "metadata": {},
   "source": [
    "EXERCISE 2"
   ]
  },
  {
   "cell_type": "code",
   "execution_count": 9,
   "metadata": {},
   "outputs": [
    {
     "name": "stdout",
     "output_type": "stream",
     "text": [
      "27\n",
      "1000\n",
      "8000\n"
     ]
    }
   ],
   "source": [
    "def main():\n",
    "    while True:\n",
    "        try:\n",
    "            size = int(input(\"Enter the size of the array: \"))\n",
    "            if size <= 0:\n",
    "                print(\"Try again. Enter a positive integer.\")\n",
    "                continue\n",
    "            break\n",
    "        except ValueError:\n",
    "            print(\"Error. Please try again.\")\n",
    "\n",
    "    while True:\n",
    "        try:\n",
    "            elem = input(\"Enter the elements separated by space: \").split()\n",
    "            if len(elem) == size:\n",
    "                elem = [float(i) for i in elem]\n",
    "                break\n",
    "            else:\n",
    "                print(f\"Error. Invalid number of elements.\")\n",
    "        except ValueError:\n",
    "            print(\"Invalid input!\")\n",
    "   \n",
    "    for i in elem: \n",
    "        result = i ** 3\n",
    "        print(int(result))\n",
    "\n",
    "if __name__ == \"__main__\":\n",
    "    main()\n"
   ]
  },
  {
   "cell_type": "markdown",
   "metadata": {},
   "source": [
    "EXERCISE 3"
   ]
  },
  {
   "cell_type": "code",
   "execution_count": 13,
   "metadata": {},
   "outputs": [
    {
     "name": "stdout",
     "output_type": "stream",
     "text": [
      "XXXXX\n",
      "X   X\n",
      "X   X\n",
      "X   X\n",
      "XXXXX\n"
     ]
    }
   ],
   "source": [
    "n = int(input(\"Enter the side length of square:\"))\n",
    "\n",
    "for i in range(n):\n",
    "    if i == 0 or i == n - 1:\n",
    "        print('X' * n)\n",
    "    else:\n",
    "        print('X' + ' ' * (n - 2) + 'X') \n",
    "\n"
   ]
  },
  {
   "cell_type": "markdown",
   "metadata": {},
   "source": [
    "EXERCISE 4"
   ]
  },
  {
   "cell_type": "code",
   "execution_count": 14,
   "metadata": {},
   "outputs": [
    {
     "name": "stdout",
     "output_type": "stream",
     "text": [
      "******\n",
      "*****\n",
      "****\n",
      "***\n",
      "**\n",
      "*\n"
     ]
    }
   ],
   "source": [
    "n = int(input(\"Enter the height of the triangle:\"))\n",
    "\n",
    "for i in range(n, 0, -1):\n",
    "    print('*' * i)\n"
   ]
  }
 ],
 "metadata": {
  "kernelspec": {
   "display_name": "Python 3",
   "language": "python",
   "name": "python3"
  },
  "language_info": {
   "codemirror_mode": {
    "name": "ipython",
    "version": 3
   },
   "file_extension": ".py",
   "mimetype": "text/x-python",
   "name": "python",
   "nbconvert_exporter": "python",
   "pygments_lexer": "ipython3",
   "version": "3.12.6"
  }
 },
 "nbformat": 4,
 "nbformat_minor": 2
}
