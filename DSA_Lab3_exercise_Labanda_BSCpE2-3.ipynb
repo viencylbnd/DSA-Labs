{
 "cells": [
  {
   "cell_type": "markdown",
   "metadata": {},
   "source": [
    "LABORATORY EXERCISE #3"
   ]
  },
  {
   "cell_type": "markdown",
   "metadata": {},
   "source": [
    "Programmed by: Viency E. Labanda"
   ]
  },
  {
   "cell_type": "markdown",
   "metadata": {},
   "source": [
    "Course, Year & Section: BSCpE 2-3"
   ]
  },
  {
   "cell_type": "markdown",
   "metadata": {},
   "source": []
  },
  {
   "cell_type": "markdown",
   "metadata": {},
   "source": [
    "LAB EXERCISE 1"
   ]
  },
  {
   "cell_type": "code",
   "execution_count": 8,
   "metadata": {},
   "outputs": [
    {
     "name": "stdout",
     "output_type": "stream",
     "text": [
      "[1, 25]\n"
     ]
    }
   ],
   "source": [
    "odd_square = input(\"Enter a list of integers (with space): \").split() \n",
    "\n",
    "answer = [int(x)**2 for x in odd_square if int(x) % 2 != 0]  \n",
    "print(answer)"
   ]
  },
  {
   "cell_type": "markdown",
   "metadata": {},
   "source": [
    "LAB EXERCISE 2"
   ]
  },
  {
   "cell_type": "code",
   "execution_count": 7,
   "metadata": {},
   "outputs": [
    {
     "name": "stdout",
     "output_type": "stream",
     "text": [
      "[(1, 'a'), (2, 'e'), (3, 'f')]\n"
     ]
    }
   ],
   "source": [
    "nums = input(\"Enter a list of integers (with space): \").split()\n",
    "strings = input(\"Enter a list of strings (with space): \").split()\n",
    "\n",
    "answer = [(int(x), y) for x, y in zip(nums, strings)]  \n",
    "print(answer)"
   ]
  },
  {
   "cell_type": "markdown",
   "metadata": {},
   "source": [
    "LAB EXERCISE 3"
   ]
  },
  {
   "cell_type": "code",
   "execution_count": 11,
   "metadata": {},
   "outputs": [
    {
     "name": "stdout",
     "output_type": "stream",
     "text": [
      "mImAsAUr\n"
     ]
    }
   ],
   "source": [
    "upper_vowel = input(\"Enter a string and the vowels will grow <3: \")\n",
    "\n",
    "def vowelsToUpper(upper_v):\n",
    "    vowels = 'aeiouAEIOU' \n",
    "    result = \"\" \n",
    "    \n",
    "    for char in upper_v:\n",
    "        if char in vowels:\n",
    "            result += char.upper() \n",
    "        else:\n",
    "            result += char\n",
    "    return result\n",
    "\n",
    "result = vowelsToUpper(upper_vowel)\n",
    "print(result)\n"
   ]
  }
 ],
 "metadata": {
  "kernelspec": {
   "display_name": "Python 3",
   "language": "python",
   "name": "python3"
  },
  "language_info": {
   "codemirror_mode": {
    "name": "ipython",
    "version": 3
   },
   "file_extension": ".py",
   "mimetype": "text/x-python",
   "name": "python",
   "nbconvert_exporter": "python",
   "pygments_lexer": "ipython3",
   "version": "3.13.0"
  }
 },
 "nbformat": 4,
 "nbformat_minor": 2
}
